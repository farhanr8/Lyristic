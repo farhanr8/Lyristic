{
  "nbformat": 4,
  "nbformat_minor": 0,
  "metadata": {
    "colab": {
      "name": "Metrics.ipynb",
      "version": "0.3.2",
      "provenance": [],
      "collapsed_sections": [],
      "toc_visible": true
    },
    "kernelspec": {
      "display_name": "Python 3",
      "language": "python",
      "name": "python3"
    }
  },
  "cells": [
    {
      "metadata": {
        "id": "df4mk2BafAcp",
        "colab_type": "text"
      },
      "cell_type": "markdown",
      "source": [
        "# Inception Score"
      ]
    },
    {
      "metadata": {
        "id": "_wt7KD7A0EWJ",
        "colab_type": "code",
        "outputId": "1829bc35-f1b1-4d6e-fa9b-d88feb0d1d42",
        "colab": {
          "base_uri": "https://localhost:8080/",
          "height": 102
        }
      },
      "cell_type": "code",
      "source": [
        "import os, sys\n",
        "import numpy as np\n",
        "from PIL import Image\n",
        "import glob\n",
        "import tensorflow as tf\n",
        "\n",
        "def get_images(filename): \n",
        "    img = Image.open(filename)\n",
        "    img.load()\n",
        "    img = img.convert(\"RGB\")\n",
        "    data = np.asarray( img, dtype=\"int32\")\n",
        "    data = np.moveaxis(data, -1, 0)\n",
        "    return data\n",
        "\n",
        "filenames = glob.glob(os.path.join('/content/album_800', '*.*'))  # Change to generated image folder\n",
        "images = [get_images(filename) for filename in filenames]\n",
        "images = np.stack(images, axis=0)\n",
        "\n",
        "print(images.shape)\n",
        "print(len(images))\n",
        "print(get_inception_score(images))\n"
      ],
      "execution_count": 0,
      "outputs": [
        {
          "output_type": "stream",
          "text": [
            "(24, 3, 416, 420)\n",
            "24\n",
            "Calculating Inception Score with 24 images in 10 splits\n",
            "Inception Score calculation time: 5.253311 s\n",
            "(1.0970299, 0.05353839)\n"
          ],
          "name": "stdout"
        }
      ]
    },
    {
      "metadata": {
        "id": "B_aL711GbWAj",
        "colab_type": "code",
        "outputId": "460b2182-e4e9-4f3f-ea7a-ff2f47d0aa44",
        "colab": {
          "base_uri": "https://localhost:8080/",
          "height": 71
        }
      },
      "cell_type": "code",
      "source": [
        "# Following Code from: https://github.com/tsc2017/Inception-Score\n",
        "\n",
        "import tensorflow as tf\n",
        "import os, sys\n",
        "import functools\n",
        "import numpy as np\n",
        "import time\n",
        "\n",
        "import imageio\n",
        "from PIL import Image\n",
        "\n",
        "from tensorflow.python.ops import array_ops\n",
        "from tensorflow.python.ops import functional_ops\n",
        "tfgan = tf.contrib.gan\n",
        "\n",
        "session = tf.InteractiveSession()\n",
        "\n",
        "# A smaller BATCH_SIZE reduces GPU memory usage, but at the cost of a slight slowdown\n",
        "BATCH_SIZE = 10\n",
        "\n",
        "# Run images through Inception.\n",
        "inception_images = tf.placeholder(tf.float32, [BATCH_SIZE, 3, None, None])\n",
        "def inception_logits(images = inception_images, num_splits = 1):\n",
        "    images = tf.transpose(images, [0, 2, 3, 1])\n",
        "    size = 299\n",
        "    images = tf.image.resize_bilinear(images, [size, size])\n",
        "    generated_images_list = array_ops.split(images, num_or_size_splits = num_splits)\n",
        "    logits = functional_ops.map_fn(\n",
        "        fn = functools.partial(tfgan.eval.run_inception, output_tensor = 'logits:0'),\n",
        "        elems = array_ops.stack(generated_images_list),\n",
        "        parallel_iterations = 1,\n",
        "        back_prop = False,\n",
        "        swap_memory = True,\n",
        "        name = 'RunClassifier')\n",
        "    logits = array_ops.concat(array_ops.unstack(logits), 0)\n",
        "    return logits\n",
        "\n",
        "logits=inception_logits()\n",
        "\n",
        "def get_inception_probs(inps):\n",
        "    n_batches = len(inps) // BATCH_SIZE\n",
        "    preds = np.zeros([n_batches * BATCH_SIZE, 1000], dtype = np.float32)\n",
        "    for i in range(n_batches):\n",
        "        inp = inps[i * BATCH_SIZE:(i + 1) * BATCH_SIZE] / 255. * 2 - 1\n",
        "        preds[i * BATCH_SIZE:(i + 1) * BATCH_SIZE] = logits.eval({inception_images:inp})[:, :1000]\n",
        "    preds = np.exp(preds) / np.sum(np.exp(preds), 1, keepdims=True)\n",
        "    return preds\n",
        "\n",
        "def preds2score(preds, splits=10):\n",
        "    scores = []\n",
        "    for i in range(splits):\n",
        "        part = preds[(i * preds.shape[0] // splits):((i + 1) * preds.shape[0] // splits), :]\n",
        "        kl = part * (np.log(part) - np.log(np.expand_dims(np.mean(part, 0), 0)))\n",
        "        kl = np.mean(np.sum(kl, 1))\n",
        "        scores.append(np.exp(kl))\n",
        "    return np.mean(scores), np.std(scores)\n",
        "\n",
        "def get_inception_score(images, splits=10):\n",
        "    assert(type(images) == np.ndarray)\n",
        "    assert(len(images.shape) == 4)\n",
        "    assert(images.shape[1] == 3)\n",
        "    assert(np.min(images[0]) >= 0 and np.max(images[0]) > 10), 'Image values should be in the range [0, 255]'\n",
        "\n",
        "    print('Calculating Inception Score with %i images in %i splits' % (images.shape[0], splits))\n",
        "    start_time=time.time()\n",
        "    preds = get_inception_probs(images)\n",
        "    mean, std = preds2score(preds, splits)\n",
        "    print('Inception Score calculation time: %f s' % (time.time() - start_time))\n",
        "    return mean, std  # Reference values: 11.34 for 49984 CIFAR-10 training set images, or mean=11.31, std=0.08 if in 10 splits.\n",
        "\n",
        "\n",
        "    "
      ],
      "execution_count": 0,
      "outputs": [
        {
          "output_type": "stream",
          "text": [
            "/usr/local/lib/python3.6/dist-packages/tensorflow/python/client/session.py:1702: UserWarning: An interactive session is already active. This can cause out-of-memory errors in some cases. You must explicitly call `InteractiveSession.close()` to release resources held by the other session(s).\n",
            "  warnings.warn('An interactive session is already active. This can '\n"
          ],
          "name": "stderr"
        }
      ]
    },
    {
      "metadata": {
        "id": "mVy6cTUIBIfP",
        "colab_type": "text"
      },
      "cell_type": "markdown",
      "source": [
        "# FID"
      ]
    },
    {
      "metadata": {
        "id": "8bhmBNGQU8ts",
        "colab_type": "code",
        "colab": {}
      },
      "cell_type": "code",
      "source": [
        "!mkdir orig_album"
      ],
      "execution_count": 0,
      "outputs": []
    },
    {
      "metadata": {
        "id": "u2r1nNTQRaw8",
        "colab_type": "code",
        "outputId": "5a6b840a-9a4d-472a-bc1f-0ae4c38664ce",
        "colab": {
          "base_uri": "https://localhost:8080/",
          "height": 136
        }
      },
      "cell_type": "code",
      "source": [
        "import os, sys\n",
        "import numpy as np\n",
        "from PIL import Image\n",
        "import glob\n",
        "import tensorflow as tf\n",
        "\n",
        "def get_images(filename):\n",
        "    \n",
        "    img = Image.open(filename)\n",
        "    img.load()\n",
        "    img = img.convert(\"RGB\")\n",
        "    img = img.resize((28,28))\n",
        "    data = np.asarray( img, dtype=\"int32\")\n",
        "    \n",
        "    data = np.moveaxis(data, -1, 0)\n",
        "    \n",
        "    return data\n",
        "\n",
        "filenames = glob.glob(os.path.join('/content/album_800', '*.*'))  # Change to generated image folder\n",
        "images = [get_images(filename) for filename in filenames]\n",
        "images = np.stack(images, axis=0)\n",
        "\n",
        "print(images.shape)\n",
        "print(len(images))\n",
        "\n",
        "filenames = glob.glob(os.path.join('/content/orig_album', '*.*'))  # Change to real image folder\n",
        "orig_images = [get_images(filename) for filename in filenames]\n",
        "orig_images = np.stack(orig_images, axis=0)\n",
        "print(orig_images.shape)\n",
        "print(len(orig_images))\n",
        "\n",
        "print(get_fid(images,orig_images))\n"
      ],
      "execution_count": 0,
      "outputs": [
        {
          "output_type": "stream",
          "text": [
            "(25, 3, 28, 28)\n",
            "25\n",
            "(25, 3, 28, 28)\n",
            "25\n",
            "Calculating FID with 25 images from each distribution\n",
            "FID calculation time: 26.242472 s\n",
            "411.31787\n"
          ],
          "name": "stdout"
        }
      ]
    },
    {
      "metadata": {
        "id": "pqGlEnspSAge",
        "colab_type": "code",
        "outputId": "246a295c-0dcc-4424-c4d4-192bdb631b5f",
        "colab": {
          "base_uri": "https://localhost:8080/",
          "height": 34
        }
      },
      "cell_type": "code",
      "source": [
        "# Code from https://github.com/tsc2017/Frechet-Inception-Distance\n",
        "import tensorflow as tf\n",
        "import os, sys\n",
        "import functools\n",
        "import numpy as np\n",
        "import time\n",
        "from tensorflow.python.ops import array_ops\n",
        "from tensorflow.python.ops import functional_ops\n",
        "tfgan = tf.contrib.gan\n",
        "\n",
        "session = tf.InteractiveSession()\n",
        "\n",
        "# A smaller BATCH_SIZE reduces GPU memory usage, but at the cost of a slight slowdown\n",
        "BATCH_SIZE = 10\n",
        "\n",
        "# Run images through Inception.\n",
        "inception_images = tf.placeholder(tf.float32, [BATCH_SIZE, 3, None, None])\n",
        "activations1 = tf.placeholder(tf.float32, [None, None], name = 'activations1')\n",
        "activations2 = tf.placeholder(tf.float32, [None, None], name = 'activations2')\n",
        "fcd = tfgan.eval.frechet_classifier_distance_from_activations(activations1, activations2)\n",
        "\n",
        "def inception_activations(images = inception_images, num_splits = 1):\n",
        "    images = tf.transpose(images, [0, 2, 3, 1])\n",
        "    size = 299\n",
        "    images = tf.image.resize_bilinear(images, [size, size])\n",
        "    generated_images_list = array_ops.split(images, num_or_size_splits = num_splits)\n",
        "    activations = functional_ops.map_fn(\n",
        "        fn = functools.partial(tfgan.eval.run_inception, output_tensor = 'pool_3:0'),\n",
        "        elems = array_ops.stack(generated_images_list),\n",
        "        parallel_iterations = 1,\n",
        "        back_prop = False,\n",
        "        swap_memory = True,\n",
        "        name = 'RunClassifier')\n",
        "    activations = array_ops.concat(array_ops.unstack(activations), 0)\n",
        "    return activations\n",
        "\n",
        "activations =inception_activations()\n",
        "\n",
        "def get_inception_activations(inps):\n",
        "    n_batches = inps.shape[0]//BATCH_SIZE\n",
        "    act = np.zeros([n_batches * BATCH_SIZE, 2048], dtype = np.float32)\n",
        "    for i in range(n_batches):\n",
        "        inp = inps[i * BATCH_SIZE:(i + 1) * BATCH_SIZE] / 255. * 2 - 1\n",
        "        act[i * BATCH_SIZE:(i + 1) * BATCH_SIZE] = activations.eval(feed_dict = {inception_images: inp})\n",
        "    return act\n",
        "\n",
        "def activations2distance(act1, act2):\n",
        "     return fcd.eval(feed_dict = {activations1: act1, activations2: act2})\n",
        "        \n",
        "def get_fid(images1, images2):\n",
        "    assert(type(images1) == np.ndarray)\n",
        "    assert(len(images1.shape) == 4)\n",
        "    assert(images1.shape[1] == 3)\n",
        "    assert(np.min(images1[0]) >= 0 and np.max(images1[0]) > 10), 'Image values should be in the range [0, 255]'\n",
        "    assert(type(images2) == np.ndarray)\n",
        "    assert(len(images2.shape) == 4)\n",
        "    assert(images2.shape[1] == 3)\n",
        "    assert(np.min(images2[0]) >= 0 and np.max(images2[0]) > 10), 'Image values should be in the range [0, 255]'\n",
        "    assert(images1.shape == images2.shape), 'The two numpy arrays must have the same shape'\n",
        "    print('Calculating FID with %i images from each distribution' % (images1.shape[0]))\n",
        "    start_time = time.time()\n",
        "    act1 = get_inception_activations(images1)\n",
        "    act2 = get_inception_activations(images2)\n",
        "    fid = activations2distance(act1, act2)\n",
        "    print('FID calculation time: %f s' % (time.time() - start_time))\n",
        "    return fid"
      ],
      "execution_count": 0,
      "outputs": [
        {
          "output_type": "stream",
          "text": [
            ">> Downloading http://download.tensorflow.org/models/frozen_inception_v1_2015_12_05.tar.gz 100.0%"
          ],
          "name": "stdout"
        }
      ]
    },
    {
      "metadata": {
        "id": "9Xu08H2vWGf1",
        "colab_type": "code",
        "colab": {}
      },
      "cell_type": "code",
      "source": [
        ""
      ],
      "execution_count": 0,
      "outputs": []
    }
  ]
}